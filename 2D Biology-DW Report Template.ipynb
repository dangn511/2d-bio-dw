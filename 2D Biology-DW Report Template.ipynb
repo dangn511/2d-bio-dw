{
 "cells": [
  {
   "cell_type": "code",
   "execution_count": 2,
   "metadata": {},
   "outputs": [],
   "source": [
    "import random\n",
    "import math"
   ]
  },
  {
   "cell_type": "markdown",
   "metadata": {},
   "source": [
    "## The init method initializes all parameters to zero. \n",
    "\n",
    "### If any parameter needs to have a default value, you can set it here. \n",
    "\n",
    "### All penalty parameters are set to a default value of 10"
   ]
  },
  {
   "cell_type": "code",
   "execution_count": 3,
   "metadata": {},
   "outputs": [],
   "source": [
    "class PrimerDesign(object):\n",
    "    \n",
    "    def __init__ (self, name):\n",
    "        \n",
    "        '''parameters for the length criterion'''\n",
    "        self.max_length = 0\n",
    "        self.min_length = 0\n",
    "        self.penalty_length = 10\n",
    "        \n",
    "        '''parameters for the temperature difference criterion'''\n",
    "        self.max_tdiff = 0\n",
    "        self.min_tdiff = 0\n",
    "        self.penalty_tdiff = 10\n",
    "        \n",
    "        '''parameters for the cg content criterion'''\n",
    "        self.max_cg = 0\n",
    "        self.min_cg = 0\n",
    "        self.penalty_cg = 10\n",
    "        \n",
    "        '''parameters for the annealing temperature criterion'''\n",
    "        self.max_temp = 0\n",
    "        self.min_temp = 0\n",
    "        self.penalty_temp = 10\n",
    "        \n",
    "        '''parameters for the run criterion'''\n",
    "        self.run_threshold = 0\n",
    "        self.penalty_runs = 10\n",
    "        \n",
    "        '''parameters for the repeat criterion'''\n",
    "        self.repeat_threshold = 0\n",
    "        self.penalty_repeats = 10\n",
    "        \n",
    "        '''parameters for the specificity criterion'''\n",
    "        self.penalty_specificity = 10 \n",
    "        \n",
    "        '''locations where the forward primer should be chosen from'''\n",
    "        self.fp_start = 0\n",
    "        self.fp_end = 0\n",
    "        \n",
    "        '''locations where the reverse primer should be chosen from'''\n",
    "        self.rp_start = 0\n",
    "        self.rp_end = 0\n",
    "        \n",
    "        ''' parameters for the simulated annealing portion'''\n",
    "        self.initial_temperature = 200\n",
    "        self.stopping_temperature = 0.01\n",
    "        self.drop_fraction = 0.999\n",
    "        "
   ]
  },
  {
   "cell_type": "markdown",
   "metadata": {},
   "source": [
    "### Task 2 "
   ]
  },
  {
   "cell_type": "code",
   "execution_count": 4,
   "metadata": {},
   "outputs": [],
   "source": [
    "class PrimerDesign(PrimerDesign): \n",
    "    \n",
    "    def set_dna_sequence(self, dna_sequence):\n",
    "        self.dna_sequence = \"\".join(filter(lambda c:c in \"atcg\", dna_sequence)) "
   ]
  },
  {
   "cell_type": "markdown",
   "metadata": {},
   "source": [
    "Test Case for Task 2"
   ]
  },
  {
   "cell_type": "code",
   "execution_count": 5,
   "metadata": {},
   "outputs": [
    {
     "data": {
      "text/plain": [
       "'gtaccttgatttcgtattctgagaggctgctgcttagcggtagccccttggtttccgtggcaacggaaaagcgcgggaattacagataaattaaaactgcgactgcgcggcgtgagctcgctgagacttcctggacgggggacaggctgtggggtttctcagataactgggcccctgcgctcaggaggccttcaccctctgctctgggtaaagttcattggaacagaaagaaatggatttatctgctcttcgcgttgaagaagtacaaaatgtcattaatgctatgcagaaaatcttagagtgtcccatctgtctggagttgatcaaggaacctgtctccacaaagtgtgaccacatattttgcaaattttgcatgctgaaacttctcaaccagaagaaagggccttcacagtgtcctttatgtaagaatgatataaccaaaaggagcctacaagaaagtacgagatttagtcaacttgttgaagagctattgaaaatcatttgtgcttttcagcttgacacaggtttggagtatgcaaacagctataattttgcaaaaaaggaaaataactctcctgaacatctaaaagatgaagtttctatcatccaaagtatgggctacagaaaccgtgccaaaagacttctacagagtgaacccgaaaatccttccttgcaggaaaccagtctcagtgtccaactctctaaccttggaactgtgagaactctgaggacaaagcagcggatacaacctcaaaagacgtctgtctacattgaattgggatctgattcttctgaagataccgttaataaggcaacttattgcagtgtgggagatcaagaattgttacaaatcacccctcaaggaaccagggatgaaatcagtttggattctgcaaaaaaggctgcttgtgaattttctgagacggatgtaacaaatactgaacatcatcaacccagtaataatgatttgaacaccactgagaagcgtgcagctgagaggcatccagaaaagtatcagggtagttctgtttcaaacttgcatgtggagccatgtggcacaaatactcatgccagctcattacagcatgagaacagcagtttattactcactaaagacagaatgaatgtagaaaaggctgaattctgtaataaaagcaaacagcctggcttagcaaggagccaacataacagatgggctggaagtaaggaaacatgtaatgataggcggactcccagcacagaaaaaaaggtagatctgaatgctgatcccctgtgtgagagaaaagaatggaataagcagaaactgccatgctcagagaatcctagagatactgaagatgttccttggataacactaaatagcagcattcagaaagttaatgagtggttttccagaagtgatgaactgttaggttctgatgactcacatgatggggagtctgaatcaaatgccaaagtagctgatgtattggacgttctaaatgaggtagatgaatattctggttcttcagagaaaatagacttactggccagtgatcctcatgaggctttaatatgtaaaagtgaaagagttcactccaaatcagtagagagtaatattgaagacaaaatatttgggaaaacctatcggaagaaggcaagcctccccaacttaagccatgtaactgaaaatctaattataggagcatttgttactgagccacagataatacaagagcgtcccctcacaaataaattaaagcgtaaaaggagacctacatcaggccttcatcctgaggattttatcaagaaagcagatttggcagttcaaaagactcctgaaatgataaatcagggaactaaccaaacggagcagaatggtcaagtgatgaatattactaatagtggtcatgagaataaaacaaaaggtgattctattcagaatgagaaaaatcctaacccaatagaatcactcgaaaaagaatctgctttcaaaacgaaagctgaacctataagcagcagtataagcaatatggaactcgaattaaatatccacaattcaaaagcacctaaaaagaataggctgaggaggaagtcttctaccaggcatattcatgcgcttgaactagtagtcagtagaaatctaagcccacctaattgtactgaattgcaaattgatagttgttctagcagtgaagagataaagaaaaaaaagtacaaccaaatgccagtcaggcacagcagaaacctacaactcatggaaggtaaagaacctgcaactggagccaagaagagtaacaagccaaatgaacagacaagtaaaagacatgacagcgatactttcccagagctgaagttaacaaatgcacctggttcttttactaagtgttcaaataccagtgaacttaaagaatttgtcaatcctagccttccaagagaagaaaaagaagagaaactagaaacagttaaagtgtctaataatgctgaagaccccaaagatctcatgttaagtggagaaagggttttgcaaactgaaagatctgtagagagtagcagtatttcattggtacctggtactgattatggcactcaggaaagtatctcgttactggaagttagcactctagggaaggcaaaaacagaaccaaataaatgtgtgagtcagtgtgcagcatttgaaaaccccaagggactaattcatggttgttccaaagataatagaaatgacacagaaggctttaagtatccattgggacatgaagttaaccacagtcgggaaacaagcatagaaatggaagaaagtgaacttgatgctcagtatttgcagaatacattcaaggtttcaaagcgccagtcatttgctccgttttcaaatccaggaaatgcagaagaggaatgtgcaacattctctgcccactctgggtccttaaagaaacaaagtccaaaagtcacttttgaatgtgaacaaaaggaagaaaatcaaggaaagaatgagtctaatatcaagcctgtacagacagttaatatcactgcaggctttcctgtggttggtcagaaagataagccagttgataatgccaaatgtagtatcaaaggaggctctaggttttgtctatcatctcagttcagaggcaacgaaactggactcattactccaaataaacatggacttttacaaaacccatatcgtataccaccactttttcccatcaagtcatttgttaaaactaaatgtaagaaaaatctgctagaggaaaactttgaggaacattcaatgtcacctgaaagagaaatgggaaatgagaacattccaagtacagtgagcacaattagccgtaataacattagagaaaatgtttttaaagaagccagctcaagcaatattaatgaagtaggttccagtactaatgaagtgggctccagtattaatgaaataggttccagtgatgaaaacattcaagcagaactaggtagaaacagagggccaaaattgaatgctatgcttagattaggggttttgcaacctgaggtctataaacaaagtcttcctggaagtaattgtaagcatcctgaaataaaaaagcaagaatatgaagaagtagttcagactgttaatacagatttctctccatatctgatttcagataacttagaacagcctatgggaagtagtcatgcatctcaggtttgttctgagacacctgatgacctgttagatgatggtgaaataaaggaagatactagttttgctgaaaatgacattaaggaaagttctgctgtttttagcaaaagcgtccagaaaggagagcttagcaggagtcctagccctttcacccatacacatttggctcagggttaccgaagaggggccaagaaattagagtcctcagaagagaacttatctagtgaggatgaagagcttccctgcttccaacacttgttatttggtaaagtaaacaatataccttctcagtctactaggcatagcaccgttgctaccgagtgtctgtctaagaacacagaggagaatttattatcattgaagaatagcttaaatgactgcagtaaccaggtaatattggcaaaggcatctcaggaacatcaccttagtgaggaaacaaaatgttctgctagcttgttttcttcacagtgcagtgaattggaagacttgactgcaaatacaaacacccaggatcctttcttgattggttcttccaaacaaatgaggcatcagtctgaaagccagggagttggtctgagtgacaaggaattggtttcagatgatgaagaaagaggaacgggcttggaagaaaataatcaagaagagcaaagcatggattcaaacttaggtgaagcagcatctgggtgtgagagtgaaacaagcgtctctgaagactgctcagggctatcctctcagagtgacattttaaccactcagcagagggataccatgcaacataacctgataaagctccagcaggaaatggctgaactagaagctgtgttagaacagcatgggagccagccttctaacagctacccttccatcataagtgactcttctgcccttgaggacctgcgaaatccagaacaaagcacatcagaaaaagcagtattaacttcacagaaaagtagtgaataccctataagccagaatccagaaggcctttctgctgacaagtttgaggtgtctgcagatagttctaccagtaaaaataaagaaccaggagtggaaaggtcatccccttctaaatgcccatcattagatgataggtggtacatgcacagttgctctgggagtcttcagaatagaaactacccatctcaagaggagctcattaaggttgttgatgtggaggagcaacagctggaagagtctgggccacacgatttgacggaaacatcttacttgccaaggcaagatctagagggaaccccttacctggaatctggaatcagcctcttctctgatgaccctgaatctgatccttctgaagacagagccccagagtcagctcgtgttggcaacataccatcttcaacctctgcattgaaagttccccaattgaaagttgcagaatctgcccagagtccagctgctgctcatactactgatactgctgggtataatgcaatggaagaaagtgtgagcagggagaagccagaattgacagcttcaacagaaagggtcaacaaaagaatgtccatggtggtgtctggcctgaccccagaagaatttatgctcgtgtacaagtttgccagaaaacaccacatcactttaactaatctaattactgaagagactactcatgttgttatgaaaacagatgctgagtttgtgtgtgaacggacactgaaatattttctaggaattgcgggaggaaaatgggtagttagctatttctgggtgacccagtctattaaagaaagaaaaatgctgaatgagcatgattttgaagtcagaggagatgtggtcaatggaagaaaccaccaaggtccaaagcgagcaagagaatcccaggacagaaagatcttcagggggctagaaatctgttgctatgggcccttcaccaacatgcccacagatcaactggaatggatggtacagctgtgtggtgcttctgtggtgaaggagctttcatcattcacccttggcacaggtgtccacccaattgtggttgtgcagccagatgcctggacagaggacaatggcttccatgcaattgggcagatgtgtgaggcacctgtggtgacccgagagtgggtgttggacagtgtagcactctaccagtgccaggagctggacacctacctgataccccagatcccccacagccactactgactgcagccagccacaggtacagagccacaggaccccaagaatgagcttacaaagtggcctttccaggccctgggagctcctctcactcttcagtccttctactgtcctggctactaaatattttatgtacatcagcctgaaaaggacttctggctatgcaagggtcccttaaagattttctgcttgaagtctcccttggaaatctgccatgagcacaaaattatggtaatttttcacctgagaagattttaaaaccatttaaacgccaccaattgagcaagatgctgattcattatttatcagccctattctttctattcaggctgttgttggcttagggctggaagcacagagtggcttggcctcaagagaatagctggtttccctaagtttacttctctaaaaccctgtgttcacaaaggcagagagtcagacccttcaatggaaggagagtgcttgggatcgattatgtgacttaaagtcagaatagtccttgggcagttctcaaatgttggagtggaacattggggaggaaattctgaggcaggtattagaaatgaaaaggaaacttgaaacctgggcatggtggctcacgcctgtaatcccagcactttgggaggccaaggtgggcagatcactggaggtcaggagttcgaaaccagcctggccaacatggtgaaaccccatctctactaaaaatacagaaattagccggtcatggtggtggacacctgtaatcccagctactcaggtggctaaggcaggagaatcacttcagcccgggaggtggaggttgcagtgagccaagatcataccacggcactccagcctgggtgacagtgagactgtggctcaaaaaaaaaaaaaaaaaaaggaaaatgaaactagaagagatttctaaaagtctgagatatatttgctagatttctaaagaatgtgttctaaaacagcagaagattttcaagaaccggtttccaaagacagtcttctaattcctcattagtaataagtaaaatgtttattgttgtagctctggtatataatccattcctcttaaaatataagacctctggcatgaatatttcatatctataaaatgacagatcccaccaggaaggaagctgttgctttctttgaggtgatttttttcctttgctccctgttgctgaaaccatacagcttcataaataattttgcttgctgaaggaagaaaaagtgtttttcataaacccattatccaggactgtttatagctgttggaaggactaggtcttccctagcccccccagtgtgcaagggcagtgaagacttgattgtacaaaatacgttttgtaaatgttgtgctgttaacactgcaaataaacttggtagcaaac'"
      ]
     },
     "execution_count": 5,
     "metadata": {},
     "output_type": "execute_result"
    }
   ],
   "source": [
    "dna_sequence = \"\"\"1 gtaccttgat ttcgtattct gagaggctgc tgcttagcgg tagccccttg gtttccgtgg\n",
    "61 caacggaaaa gcgcgggaat tacagataaa ttaaaactgc gactgcgcgg cgtgagctcg\n",
    "121 ctgagacttc ctggacgggg gacaggctgt ggggtttctc agataactgg gcccctgcgc\n",
    "181 tcaggaggcc ttcaccctct gctctgggta aagttcattg gaacagaaag aaatggattt\n",
    "241 atctgctctt cgcgttgaag aagtacaaaa tgtcattaat gctatgcaga aaatcttaga\n",
    "301 gtgtcccatc tgtctggagt tgatcaagga acctgtctcc acaaagtgtg accacatatt\n",
    "361 ttgcaaattt tgcatgctga aacttctcaa ccagaagaaa gggccttcac agtgtccttt\n",
    "421 atgtaagaat gatataacca aaaggagcct acaagaaagt acgagattta gtcaacttgt\n",
    "481 tgaagagcta ttgaaaatca tttgtgcttt tcagcttgac acaggtttgg agtatgcaaa\n",
    "541 cagctataat tttgcaaaaa aggaaaataa ctctcctgaa catctaaaag atgaagtttc\n",
    "601 tatcatccaa agtatgggct acagaaaccg tgccaaaaga cttctacaga gtgaacccga\n",
    "661 aaatccttcc ttgcaggaaa ccagtctcag tgtccaactc tctaaccttg gaactgtgag\n",
    "721 aactctgagg acaaagcagc ggatacaacc tcaaaagacg tctgtctaca ttgaattggg\n",
    "781 atctgattct tctgaagata ccgttaataa ggcaacttat tgcagtgtgg gagatcaaga\n",
    "841 attgttacaa atcacccctc aaggaaccag ggatgaaatc agtttggatt ctgcaaaaaa\n",
    "901 ggctgcttgt gaattttctg agacggatgt aacaaatact gaacatcatc aacccagtaa\n",
    "961 taatgatttg aacaccactg agaagcgtgc agctgagagg catccagaaa agtatcaggg\n",
    "1021 tagttctgtt tcaaacttgc atgtggagcc atgtggcaca aatactcatg ccagctcatt\n",
    "1081 acagcatgag aacagcagtt tattactcac taaagacaga atgaatgtag aaaaggctga\n",
    "1141 attctgtaat aaaagcaaac agcctggctt agcaaggagc caacataaca gatgggctgg\n",
    "1201 aagtaaggaa acatgtaatg ataggcggac tcccagcaca gaaaaaaagg tagatctgaa\n",
    "1261 tgctgatccc ctgtgtgaga gaaaagaatg gaataagcag aaactgccat gctcagagaa\n",
    "1321 tcctagagat actgaagatg ttccttggat aacactaaat agcagcattc agaaagttaa\n",
    "1381 tgagtggttt tccagaagtg atgaactgtt aggttctgat gactcacatg atggggagtc\n",
    "1441 tgaatcaaat gccaaagtag ctgatgtatt ggacgttcta aatgaggtag atgaatattc\n",
    "1501 tggttcttca gagaaaatag acttactggc cagtgatcct catgaggctt taatatgtaa\n",
    "1561 aagtgaaaga gttcactcca aatcagtaga gagtaatatt gaagacaaaa tatttgggaa\n",
    "1621 aacctatcgg aagaaggcaa gcctccccaa cttaagccat gtaactgaaa atctaattat\n",
    "1681 aggagcattt gttactgagc cacagataat acaagagcgt cccctcacaa ataaattaaa\n",
    "1741 gcgtaaaagg agacctacat caggccttca tcctgaggat tttatcaaga aagcagattt\n",
    "1801 ggcagttcaa aagactcctg aaatgataaa tcagggaact aaccaaacgg agcagaatgg\n",
    "1861 tcaagtgatg aatattacta atagtggtca tgagaataaa acaaaaggtg attctattca\n",
    "1921 gaatgagaaa aatcctaacc caatagaatc actcgaaaaa gaatctgctt tcaaaacgaa\n",
    "1981 agctgaacct ataagcagca gtataagcaa tatggaactc gaattaaata tccacaattc\n",
    "2041 aaaagcacct aaaaagaata ggctgaggag gaagtcttct accaggcata ttcatgcgct\n",
    "2101 tgaactagta gtcagtagaa atctaagccc acctaattgt actgaattgc aaattgatag\n",
    "2161 ttgttctagc agtgaagaga taaagaaaaa aaagtacaac caaatgccag tcaggcacag\n",
    "2221 cagaaaccta caactcatgg aaggtaaaga acctgcaact ggagccaaga agagtaacaa\n",
    "2281 gccaaatgaa cagacaagta aaagacatga cagcgatact ttcccagagc tgaagttaac\n",
    "2341 aaatgcacct ggttctttta ctaagtgttc aaataccagt gaacttaaag aatttgtcaa\n",
    "2401 tcctagcctt ccaagagaag aaaaagaaga gaaactagaa acagttaaag tgtctaataa\n",
    "2461 tgctgaagac cccaaagatc tcatgttaag tggagaaagg gttttgcaaa ctgaaagatc\n",
    "2521 tgtagagagt agcagtattt cattggtacc tggtactgat tatggcactc aggaaagtat\n",
    "2581 ctcgttactg gaagttagca ctctagggaa ggcaaaaaca gaaccaaata aatgtgtgag\n",
    "2641 tcagtgtgca gcatttgaaa accccaaggg actaattcat ggttgttcca aagataatag\n",
    "2701 aaatgacaca gaaggcttta agtatccatt gggacatgaa gttaaccaca gtcgggaaac\n",
    "2761 aagcatagaa atggaagaaa gtgaacttga tgctcagtat ttgcagaata cattcaaggt\n",
    "2821 ttcaaagcgc cagtcatttg ctccgttttc aaatccagga aatgcagaag aggaatgtgc\n",
    "2881 aacattctct gcccactctg ggtccttaaa gaaacaaagt ccaaaagtca cttttgaatg\n",
    "2941 tgaacaaaag gaagaaaatc aaggaaagaa tgagtctaat atcaagcctg tacagacagt\n",
    "3001 taatatcact gcaggctttc ctgtggttgg tcagaaagat aagccagttg ataatgccaa\n",
    "3061 atgtagtatc aaaggaggct ctaggttttg tctatcatct cagttcagag gcaacgaaac\n",
    "3121 tggactcatt actccaaata aacatggact tttacaaaac ccatatcgta taccaccact\n",
    "3181 ttttcccatc aagtcatttg ttaaaactaa atgtaagaaa aatctgctag aggaaaactt\n",
    "3241 tgaggaacat tcaatgtcac ctgaaagaga aatgggaaat gagaacattc caagtacagt\n",
    "3301 gagcacaatt agccgtaata acattagaga aaatgttttt aaagaagcca gctcaagcaa\n",
    "3361 tattaatgaa gtaggttcca gtactaatga agtgggctcc agtattaatg aaataggttc\n",
    "3421 cagtgatgaa aacattcaag cagaactagg tagaaacaga gggccaaaat tgaatgctat\n",
    "3481 gcttagatta ggggttttgc aacctgaggt ctataaacaa agtcttcctg gaagtaattg\n",
    "3541 taagcatcct gaaataaaaa agcaagaata tgaagaagta gttcagactg ttaatacaga\n",
    "3601 tttctctcca tatctgattt cagataactt agaacagcct atgggaagta gtcatgcatc\n",
    "3661 tcaggtttgt tctgagacac ctgatgacct gttagatgat ggtgaaataa aggaagatac\n",
    "3721 tagttttgct gaaaatgaca ttaaggaaag ttctgctgtt tttagcaaaa gcgtccagaa\n",
    "3781 aggagagctt agcaggagtc ctagcccttt cacccataca catttggctc agggttaccg\n",
    "3841 aagaggggcc aagaaattag agtcctcaga agagaactta tctagtgagg atgaagagct\n",
    "3901 tccctgcttc caacacttgt tatttggtaa agtaaacaat ataccttctc agtctactag\n",
    "3961 gcatagcacc gttgctaccg agtgtctgtc taagaacaca gaggagaatt tattatcatt\n",
    "4021 gaagaatagc ttaaatgact gcagtaacca ggtaatattg gcaaaggcat ctcaggaaca\n",
    "4081 tcaccttagt gaggaaacaa aatgttctgc tagcttgttt tcttcacagt gcagtgaatt\n",
    "4141 ggaagacttg actgcaaata caaacaccca ggatcctttc ttgattggtt cttccaaaca\n",
    "4201 aatgaggcat cagtctgaaa gccagggagt tggtctgagt gacaaggaat tggtttcaga\n",
    "4261 tgatgaagaa agaggaacgg gcttggaaga aaataatcaa gaagagcaaa gcatggattc\n",
    "4321 aaacttaggt gaagcagcat ctgggtgtga gagtgaaaca agcgtctctg aagactgctc\n",
    "4381 agggctatcc tctcagagtg acattttaac cactcagcag agggatacca tgcaacataa\n",
    "4441 cctgataaag ctccagcagg aaatggctga actagaagct gtgttagaac agcatgggag\n",
    "4501 ccagccttct aacagctacc cttccatcat aagtgactct tctgcccttg aggacctgcg\n",
    "4561 aaatccagaa caaagcacat cagaaaaagc agtattaact tcacagaaaa gtagtgaata\n",
    "4621 ccctataagc cagaatccag aaggcctttc tgctgacaag tttgaggtgt ctgcagatag\n",
    "4681 ttctaccagt aaaaataaag aaccaggagt ggaaaggtca tccccttcta aatgcccatc\n",
    "4741 attagatgat aggtggtaca tgcacagttg ctctgggagt cttcagaata gaaactaccc\n",
    "4801 atctcaagag gagctcatta aggttgttga tgtggaggag caacagctgg aagagtctgg\n",
    "4861 gccacacgat ttgacggaaa catcttactt gccaaggcaa gatctagagg gaacccctta\n",
    "4921 cctggaatct ggaatcagcc tcttctctga tgaccctgaa tctgatcctt ctgaagacag\n",
    "4981 agccccagag tcagctcgtg ttggcaacat accatcttca acctctgcat tgaaagttcc\n",
    "5041 ccaattgaaa gttgcagaat ctgcccagag tccagctgct gctcatacta ctgatactgc\n",
    "5101 tgggtataat gcaatggaag aaagtgtgag cagggagaag ccagaattga cagcttcaac\n",
    "5161 agaaagggtc aacaaaagaa tgtccatggt ggtgtctggc ctgaccccag aagaatttat\n",
    "5221 gctcgtgtac aagtttgcca gaaaacacca catcacttta actaatctaa ttactgaaga\n",
    "5281 gactactcat gttgttatga aaacagatgc tgagtttgtg tgtgaacgga cactgaaata\n",
    "5341 ttttctagga attgcgggag gaaaatgggt agttagctat ttctgggtga cccagtctat\n",
    "5401 taaagaaaga aaaatgctga atgagcatga ttttgaagtc agaggagatg tggtcaatgg\n",
    "5461 aagaaaccac caaggtccaa agcgagcaag agaatcccag gacagaaaga tcttcagggg\n",
    "5521 gctagaaatc tgttgctatg ggcccttcac caacatgccc acagatcaac tggaatggat\n",
    "5581 ggtacagctg tgtggtgctt ctgtggtgaa ggagctttca tcattcaccc ttggcacagg\n",
    "5641 tgtccaccca attgtggttg tgcagccaga tgcctggaca gaggacaatg gcttccatgc\n",
    "5701 aattgggcag atgtgtgagg cacctgtggt gacccgagag tgggtgttgg acagtgtagc\n",
    "5761 actctaccag tgccaggagc tggacaccta cctgataccc cagatccccc acagccacta\n",
    "5821 ctgactgcag ccagccacag gtacagagcc acaggacccc aagaatgagc ttacaaagtg\n",
    "5881 gcctttccag gccctgggag ctcctctcac tcttcagtcc ttctactgtc ctggctacta\n",
    "5941 aatattttat gtacatcagc ctgaaaagga cttctggcta tgcaagggtc ccttaaagat\n",
    "6001 tttctgcttg aagtctccct tggaaatctg ccatgagcac aaaattatgg taatttttca\n",
    "6061 cctgagaaga ttttaaaacc atttaaacgc caccaattga gcaagatgct gattcattat\n",
    "6121 ttatcagccc tattctttct attcaggctg ttgttggctt agggctggaa gcacagagtg\n",
    "6181 gcttggcctc aagagaatag ctggtttccc taagtttact tctctaaaac cctgtgttca\n",
    "6241 caaaggcaga gagtcagacc cttcaatgga aggagagtgc ttgggatcga ttatgtgact\n",
    "6301 taaagtcaga atagtccttg ggcagttctc aaatgttgga gtggaacatt ggggaggaaa\n",
    "6361 ttctgaggca ggtattagaa atgaaaagga aacttgaaac ctgggcatgg tggctcacgc\n",
    "6421 ctgtaatccc agcactttgg gaggccaagg tgggcagatc actggaggtc aggagttcga\n",
    "6481 aaccagcctg gccaacatgg tgaaacccca tctctactaa aaatacagaa attagccggt\n",
    "6541 catggtggtg gacacctgta atcccagcta ctcaggtggc taaggcagga gaatcacttc\n",
    "6601 agcccgggag gtggaggttg cagtgagcca agatcatacc acggcactcc agcctgggtg\n",
    "6661 acagtgagac tgtggctcaa aaaaaaaaaa aaaaaaagga aaatgaaact agaagagatt\n",
    "6721 tctaaaagtc tgagatatat ttgctagatt tctaaagaat gtgttctaaa acagcagaag\n",
    "6781 attttcaaga accggtttcc aaagacagtc ttctaattcc tcattagtaa taagtaaaat\n",
    "6841 gtttattgtt gtagctctgg tatataatcc attcctctta aaatataaga cctctggcat\n",
    "6901 gaatatttca tatctataaa atgacagatc ccaccaggaa ggaagctgtt gctttctttg\n",
    "6961 aggtgatttt tttcctttgc tccctgttgc tgaaaccata cagcttcata aataattttg\n",
    "7021 cttgctgaag gaagaaaaag tgtttttcat aaacccatta tccaggactg tttatagctg\n",
    "7081 ttggaaggac taggtcttcc ctagcccccc cagtgtgcaa gggcagtgaa gacttgattg\n",
    "7141 tacaaaatac gttttgtaaa tgttgtgctg ttaacactgc aaataaactt ggtagcaaac\n",
    "\"\"\"\n",
    "\n",
    "p = PrimerDesign(\"test\")\n",
    "p.set_dna_sequence(dna_sequence)\n",
    "p.dna_sequence"
   ]
  },
  {
   "cell_type": "markdown",
   "metadata": {},
   "source": [
    "### Task 3"
   ]
  },
  {
   "cell_type": "code",
   "execution_count": 6,
   "metadata": {},
   "outputs": [],
   "source": [
    "class PrimerDesign(PrimerDesign):\n",
    "    \n",
    "    def func_select_random(self, sqtype='forward', length = 20 ):\n",
    "        \n",
    "        '''the length has to be a positive number'''\n",
    "        if length <= 0:\n",
    "            return \"Error!!\"\n",
    "        \n",
    "        if(sqtype == 'forward'):\n",
    "            start_limit = self.fp_start \n",
    "            end_limit = self.fp_end \n",
    "            \n",
    "        elif(sqtype == 'reverse'):\n",
    "            start_limit = self.rp_start \n",
    "            end_limit = self.rp_end\n",
    "        \n",
    "        else: \n",
    "            return \"Error!!\"\n",
    "            \n",
    "        i = random.randint(start_limit, end_limit+1)\n",
    "        return self.dna_sequence[i:i+length]"
   ]
  },
  {
   "cell_type": "markdown",
   "metadata": {},
   "source": [
    "Test Case for Task 3"
   ]
  },
  {
   "cell_type": "code",
   "execution_count": 8,
   "metadata": {},
   "outputs": [
    {
     "data": {
      "text/plain": [
       "'cgctgagacttcctggacgg'"
      ]
     },
     "execution_count": 8,
     "metadata": {},
     "output_type": "execute_result"
    }
   ],
   "source": [
    "p = PrimerDesign(\"test\")\n",
    "p.set_dna_sequence(dna_sequence)\n",
    "p.fp_start = 100\n",
    "p.fp_end = 200\n",
    "primer = p.func_select_random(\"forward\", 20)\n",
    "primer\n",
    "# len(primer)"
   ]
  },
  {
   "cell_type": "markdown",
   "metadata": {},
   "source": [
    "### Task 4"
   ]
  },
  {
   "cell_type": "code",
   "execution_count": null,
   "metadata": {},
   "outputs": [],
   "source": [
    "class PrimerDesign(PrimerDesign): \n",
    "    \n",
    "    def func_length(self, sq):\n",
    "        return len(sq) \n",
    "    \n",
    "    def func_cg_fraction(self, sq):\n",
    "        k = 0\n",
    "        for c in sq:\n",
    "            if c in \"cg\":\n",
    "                k += 1\n",
    "        return k/len(sq)\n",
    "        \n",
    "    def func_temperature(self,sq):\n",
    "        return 4*(sq.count('g')+sq.count('c')) + 2*(sq.count('a')+sq.count('t'))\n",
    "            "
   ]
  },
  {
   "cell_type": "code",
   "execution_count": null,
   "metadata": {},
   "outputs": [],
   "source": [
    "class PrimerDesign(PrimerDesign):\n",
    "\n",
    "    def func_count_runs(self,sq):\n",
    "        run_count = 0\n",
    "        k = 1\n",
    "        last_char = sq[0]\n",
    "        for i in sq[1:]:\n",
    "            if i == last_char:\n",
    "                k += 1\n",
    "            else:\n",
    "                last_char = i\n",
    "                if k >= 5:\n",
    "                    run_count += 1\n",
    "                k = 1\n",
    "        return run_count    "
   ]
  },
  {
   "cell_type": "code",
   "execution_count": null,
   "metadata": {},
   "outputs": [],
   "source": [
    "class PrimerDesign(PrimerDesign):\n",
    "    def func_count_repeats(self,sq):\n",
    "        count = 0\n",
    "        di_repeats = ['at','ac','ag','ca','ct','cg','ga','gt','gc','ta','tc','tg']\n",
    "        while i < len(sq):\n",
    "            try:\n",
    "                if '{}{}'.format(sq[i],sq[i+1]) == '{}{}'.format(sq[i+2],sq[i+3]) and '{}{}'.format(sq[i],sq[i+1]) in di_repeats:\n",
    "                    count += 1\n",
    "            except:\n",
    "                pass\n",
    "        return count"
   ]
  },
  {
   "cell_type": "markdown",
   "metadata": {},
   "source": [
    "### Task 5"
   ]
  },
  {
   "cell_type": "code",
   "execution_count": null,
   "metadata": {},
   "outputs": [],
   "source": [
    "class PrimerDesign(PrimerDesign):\n",
    "    \n",
    "    def cost_length(self, sq):\n",
    "        sq_len = len(sq)\n",
    "        if(sq_len > self.max_length):\n",
    "            return (sq_len - self.max_length)*self.penalty_length\n",
    "        elif(sq_len > self.min_length):\n",
    "            return 0\n",
    "        else:\n",
    "            return (self.min_length - sq_len)*self.penalty_length \n",
    "    \n",
    "    def cost_temperature(self, sq):\n",
    "        pass \n",
    "        \n",
    "    def cost_cgcontent(self,sq):\n",
    "        pass\n",
    "        \n",
    "    def cost_temperature_difference(self, fp, rp):\n",
    "        pass\n",
    "    \n",
    "    def cost_specificity(self, sq):\n",
    "        pass\n",
    "    \n",
    "    def cost_runs(self, sq):\n",
    "        pass\n",
    "    \n",
    "    def cost_repeats(self,sq):\n",
    "        pass "
   ]
  },
  {
   "cell_type": "markdown",
   "metadata": {},
   "source": [
    "### Task 6"
   ]
  },
  {
   "cell_type": "code",
   "execution_count": null,
   "metadata": {},
   "outputs": [],
   "source": [
    "class PrimerDesign(PrimerDesign):\n",
    "    \n",
    "    def cost_objective_function(self, fp, rp):\n",
    "        '''complete the calculation of the cost'''\n",
    "        cost = 0        \n",
    "        return cost \n",
    "        "
   ]
  },
  {
   "cell_type": "markdown",
   "metadata": {},
   "source": [
    "### Task 7"
   ]
  },
  {
   "cell_type": "code",
   "execution_count": null,
   "metadata": {},
   "outputs": [],
   "source": [
    "class PrimerDesign(PrimerDesign):\n",
    "    \n",
    "    def cost_objective_function_info(self, fp, rp):\n",
    "        pass "
   ]
  },
  {
   "cell_type": "markdown",
   "metadata": {},
   "source": [
    "### Task 10"
   ]
  },
  {
   "cell_type": "code",
   "execution_count": null,
   "metadata": {},
   "outputs": [],
   "source": [
    "class PrimerDesign(PrimerDesign): \n",
    "    \n",
    "    def func_simulated_annealing(self):\n",
    "        \n",
    "        temperature = self.initial_temperature\n",
    "        stopping_temperature = self.stopping_temperature\n",
    "        drop = self.drop_fraction\n",
    "        \n",
    "        pass \n"
   ]
  },
  {
   "cell_type": "markdown",
   "metadata": {},
   "source": [
    "### Store the DNA sequence given to you in the variable below "
   ]
  },
  {
   "cell_type": "code",
   "execution_count": null,
   "metadata": {},
   "outputs": [],
   "source": [
    "dna_sequence = ''' '''"
   ]
  },
  {
   "cell_type": "markdown",
   "metadata": {},
   "source": [
    "### Instantiate your class and read in the DNA sequence"
   ]
  },
  {
   "cell_type": "code",
   "execution_count": null,
   "metadata": {},
   "outputs": [],
   "source": []
  },
  {
   "cell_type": "markdown",
   "metadata": {},
   "source": [
    "### If you need to adjust any parameter from their default values in the init method, do it here"
   ]
  },
  {
   "cell_type": "code",
   "execution_count": null,
   "metadata": {},
   "outputs": [],
   "source": []
  },
  {
   "cell_type": "markdown",
   "metadata": {},
   "source": [
    "### Show the outcome of your testing and the functions in the subsequent cells "
   ]
  }
 ],
 "metadata": {
  "kernelspec": {
   "display_name": "Python 3",
   "language": "python",
   "name": "python3"
  },
  "language_info": {
   "codemirror_mode": {
    "name": "ipython",
    "version": 3
   },
   "file_extension": ".py",
   "mimetype": "text/x-python",
   "name": "python",
   "nbconvert_exporter": "python",
   "pygments_lexer": "ipython3",
   "version": "3.7.2"
  }
 },
 "nbformat": 4,
 "nbformat_minor": 2
}
